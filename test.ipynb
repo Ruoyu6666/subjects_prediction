{
 "cells": [
  {
   "cell_type": "markdown",
   "id": "4cfc2009",
   "metadata": {},
   "source": [
    "# Preparation"
   ]
  },
  {
   "cell_type": "code",
   "execution_count": 54,
   "id": "dd36939d",
   "metadata": {},
   "outputs": [],
   "source": [
    "# import dependencies\n",
    "import os\n",
    "import numpy as np\n",
    "import pandas as pd\n",
    "import tensorflow as tf\n",
    "import networkx as nx\n",
    "from sklearn.model_selection import KFold\n",
    "from sklearn.preprocessing import LabelEncoder, OneHotEncoder\n",
    "from tensorflow.keras import layers, Model"
   ]
  },
  {
   "cell_type": "code",
   "execution_count": 41,
   "id": "18e8beb5",
   "metadata": {},
   "outputs": [],
   "source": [
    "# Load the dataset\n",
    "cites_df = pd.read_csv('./cora/cora.cites', sep='\\t',header=None, names=[\"start\", \"end\"]) \n",
    "content_df = pd.read_csv('./cora/cora.content', sep='\\t', header=None)\n",
    "# The first column is the paper ID, the last is the class label, the rest are the features."
   ]
  },
  {
   "cell_type": "code",
   "execution_count": 49,
   "id": "2e161219",
   "metadata": {},
   "outputs": [],
   "source": [
    "graph = nx.DiGraph()\n",
    "\n",
    "# Add nodes with features\n",
    "for _, row in content_df.iterrows():\n",
    "    node_id = row[0]\n",
    "    features = row[1:-1].values\n",
    "    label = row.values[-1]\n",
    "    graph.add_node(node_id, feature=features, label=label)\n",
    "\n",
    "# Add edges from citations\n",
    "for _, row in cites_df.iterrows():\n",
    "    src = row['start']\n",
    "    dst = row['end']\n",
    "    graph.add_edge(src, dst)"
   ]
  },
  {
   "cell_type": "code",
   "execution_count": 55,
   "id": "02fbae9d",
   "metadata": {},
   "outputs": [],
   "source": [
    "label_encoder = LabelEncoder()\n",
    "y_encoded = label_encoder.fit_transform(content_df.iloc[:, -1])\n",
    "onehot_encoder = OneHotEncoder(sparse_output=False)\n",
    "y_onehot = onehot_encoder.fit_transform(y_encoded.reshape(-1, 1))\n",
    "num_classes = y_onehot.shape[1]"
   ]
  },
  {
   "cell_type": "code",
   "execution_count": 24,
   "id": "0735731a",
   "metadata": {},
   "outputs": [],
   "source": [
    "paper_ids = content_df.iloc[:, 0].values\n",
    "subjects = np.unique(content_df.iloc[:, -1].values)\n",
    "num_nodes = len(paper_ids)"
   ]
  },
  {
   "cell_type": "code",
   "execution_count": null,
   "id": "4a2c16cc",
   "metadata": {},
   "outputs": [],
   "source": [
    "# Create the directed graph from the cites data\n",
    "G = nx.from_pandas_edgelist(cites_df, 'start', 'end', create_using=nx.DiGraph())\n",
    "# adjacency matrix\n",
    "adj_matrix = nx.to_numpy_array(G, nodelist=np.array(list(G.nodes())))\n"
   ]
  },
  {
   "cell_type": "markdown",
   "id": "0fdbaaff",
   "metadata": {},
   "source": [
    "# Modelling"
   ]
  },
  {
   "cell_type": "markdown",
   "id": "f32a5be0",
   "metadata": {},
   "source": [
    "## GCN"
   ]
  },
  {
   "cell_type": "markdown",
   "id": "e1c0cf5b",
   "metadata": {},
   "source": [
    "3. Develop a machine learning approach to predict the subjects of papers.\n",
    "4. Train your approach on 9 folds, evaluate it on 1 fold, repeat this process 10 times, and concatenate your predictions such that you have a prediction for every data point in the end.\n",
    "5. Store your predictions in a file as tab-separated values (TSV) in the format <paper_id> <class_label> where class_label is a string.\n",
    "6. Evaluate your approach in terms of accuracy indicating the percentage of nodes that were predicted correctly."
   ]
  },
  {
   "cell_type": "markdown",
   "id": "3c8a3bed",
   "metadata": {},
   "source": [
    "1. Create a GitHub repository, grant access to the GitHub user heindorf and send an email with the name of the repository to heindorf@uni-paderborn.de.\n",
    "2. Upload your code (Python preferred) to the repository.\n",
    "3. Upload your predictions (TSV file) to the repository.\n",
    "4. Document your approach in the README file. \\\n",
    "Describe what dependencies are required and how to run your code-ideally with a single command. \\\n",
    "Moreover, briefly explain the core idea of your approach in the README file."
   ]
  }
 ],
 "metadata": {
  "kernelspec": {
   "display_name": "cora",
   "language": "python",
   "name": "python3"
  },
  "language_info": {
   "codemirror_mode": {
    "name": "ipython",
    "version": 3
   },
   "file_extension": ".py",
   "mimetype": "text/x-python",
   "name": "python",
   "nbconvert_exporter": "python",
   "pygments_lexer": "ipython3",
   "version": "3.11.11"
  }
 },
 "nbformat": 4,
 "nbformat_minor": 5
}
